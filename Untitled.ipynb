{
 "cells": [
  {
   "cell_type": "code",
   "execution_count": 5,
   "metadata": {},
   "outputs": [
    {
     "name": "stdout",
     "output_type": "stream",
     "text": [
      "Enter gesture no.: 1\n",
      "Enter gesture name/text: a\n",
      "g_id already exists. Want to change the record? (y/n): y\n"
     ]
    },
    {
     "ename": "error",
     "evalue": "OpenCV(4.5.1) C:\\Users\\appveyor\\AppData\\Local\\Temp\\1\\pip-req-build-oduouqig\\opencv\\modules\\imgproc\\src\\shapedescr.cpp:315: error: (-215:Assertion failed) npoints >= 0 && (depth == CV_32F || depth == CV_32S) in function 'cv::contourArea'\n",
     "output_type": "error",
     "traceback": [
      "\u001b[1;31m---------------------------------------------------------------------------\u001b[0m",
      "\u001b[1;31merror\u001b[0m                                     Traceback (most recent call last)",
      "\u001b[1;32m<ipython-input-5-81fa00ac0698>\u001b[0m in \u001b[0;36m<module>\u001b[1;34m\u001b[0m\n\u001b[0;32m    104\u001b[0m \u001b[0mg_name\u001b[0m \u001b[1;33m=\u001b[0m \u001b[0minput\u001b[0m\u001b[1;33m(\u001b[0m\u001b[1;34m\"Enter gesture name/text: \"\u001b[0m\u001b[1;33m)\u001b[0m\u001b[1;33m\u001b[0m\u001b[1;33m\u001b[0m\u001b[0m\n\u001b[0;32m    105\u001b[0m \u001b[0mstore_in_db\u001b[0m\u001b[1;33m(\u001b[0m\u001b[0mg_id\u001b[0m\u001b[1;33m,\u001b[0m \u001b[0mg_name\u001b[0m\u001b[1;33m)\u001b[0m\u001b[1;33m\u001b[0m\u001b[1;33m\u001b[0m\u001b[0m\n\u001b[1;32m--> 106\u001b[1;33m \u001b[0mstore_images\u001b[0m\u001b[1;33m(\u001b[0m\u001b[0mg_id\u001b[0m\u001b[1;33m)\u001b[0m\u001b[1;33m\u001b[0m\u001b[1;33m\u001b[0m\u001b[0m\n\u001b[0m",
      "\u001b[1;32m<ipython-input-5-81fa00ac0698>\u001b[0m in \u001b[0;36mstore_images\u001b[1;34m(g_id)\u001b[0m\n\u001b[0;32m     68\u001b[0m \u001b[1;33m\u001b[0m\u001b[0m\n\u001b[0;32m     69\u001b[0m                 \u001b[1;32mif\u001b[0m \u001b[0mlen\u001b[0m\u001b[1;33m(\u001b[0m\u001b[0mcontours\u001b[0m\u001b[1;33m)\u001b[0m \u001b[1;33m>\u001b[0m \u001b[1;36m0\u001b[0m\u001b[1;33m:\u001b[0m\u001b[1;33m\u001b[0m\u001b[1;33m\u001b[0m\u001b[0m\n\u001b[1;32m---> 70\u001b[1;33m                         \u001b[0mcontour\u001b[0m \u001b[1;33m=\u001b[0m \u001b[0mmax\u001b[0m\u001b[1;33m(\u001b[0m\u001b[0mcontours\u001b[0m\u001b[1;33m,\u001b[0m \u001b[0mkey\u001b[0m \u001b[1;33m=\u001b[0m \u001b[0mcv2\u001b[0m\u001b[1;33m.\u001b[0m\u001b[0mcontourArea\u001b[0m\u001b[1;33m)\u001b[0m\u001b[1;33m\u001b[0m\u001b[1;33m\u001b[0m\u001b[0m\n\u001b[0m\u001b[0;32m     71\u001b[0m                         \u001b[1;32mif\u001b[0m \u001b[0mcv2\u001b[0m\u001b[1;33m.\u001b[0m\u001b[0mcontourArea\u001b[0m\u001b[1;33m(\u001b[0m\u001b[0mcontour\u001b[0m\u001b[1;33m)\u001b[0m \u001b[1;33m>\u001b[0m \u001b[1;36m10000\u001b[0m \u001b[1;32mand\u001b[0m \u001b[0mframes\u001b[0m \u001b[1;33m>\u001b[0m \u001b[1;36m50\u001b[0m\u001b[1;33m:\u001b[0m\u001b[1;33m\u001b[0m\u001b[1;33m\u001b[0m\u001b[0m\n\u001b[0;32m     72\u001b[0m                                 \u001b[0mx1\u001b[0m\u001b[1;33m,\u001b[0m \u001b[0my1\u001b[0m\u001b[1;33m,\u001b[0m \u001b[0mw1\u001b[0m\u001b[1;33m,\u001b[0m \u001b[0mh1\u001b[0m \u001b[1;33m=\u001b[0m \u001b[0mcv2\u001b[0m\u001b[1;33m.\u001b[0m\u001b[0mboundingRect\u001b[0m\u001b[1;33m(\u001b[0m\u001b[0mcontour\u001b[0m\u001b[1;33m)\u001b[0m\u001b[1;33m\u001b[0m\u001b[1;33m\u001b[0m\u001b[0m\n",
      "\u001b[1;31merror\u001b[0m: OpenCV(4.5.1) C:\\Users\\appveyor\\AppData\\Local\\Temp\\1\\pip-req-build-oduouqig\\opencv\\modules\\imgproc\\src\\shapedescr.cpp:315: error: (-215:Assertion failed) npoints >= 0 && (depth == CV_32F || depth == CV_32S) in function 'cv::contourArea'\n"
     ]
    }
   ],
   "source": [
    "import cv2\n",
    "import numpy as np\n",
    "import pickle, os, sqlite3, random\n",
    "\n",
    "image_x, image_y = 50, 50\n",
    "\n",
    "def get_hand_hist():\n",
    "    with open(\"hist\", \"rb\") as f:\n",
    "        hist = pickle.load(f)\n",
    "    return hist\n",
    "\n",
    "def init_create_folder_database():\n",
    "    if not os.path.exists(\"gestures\"):\n",
    "        os.mkdir(\"gestures\")\n",
    "    if not os.path.exists(\"gesture_db.db\"):\n",
    "        conn = sqlite3.connect(\"gesture_db.db\")\n",
    "        create_table_cmd = \"CREATE TABLE gesture ( g_id INTEGER NOT NULL PRIMARY KEY AUTOINCREMENT UNIQUE, g_name TEXT NOT NULL )\"\n",
    "        conn.execute(create_table_cmd)\n",
    "        conn.commit()\n",
    "\n",
    "def create_folder(folder_name):\n",
    "    if not os.path.exists(folder_name):\n",
    "        os.mkdir(folder_name)\n",
    "\n",
    "def store_in_db(g_id, g_name):\n",
    "    conn = sqlite3.connect(\"gesture_db.db\")\n",
    "    cmd = \"INSERT INTO gesture (g_id, g_name) VALUES (%s, \\'%s\\')\" % (g_id, g_name)\n",
    "    try:\n",
    "        conn.execute(cmd)\n",
    "    except sqlite3.IntegrityError:\n",
    "        choice = input(\"g_id already exists. Want to change the record? (y/n): \")\n",
    "        if choice.lower() == 'y':\n",
    "            cmd = \"UPDATE gesture SET g_name = \\'%s\\' WHERE g_id = %s\" % (g_name, g_id)\n",
    "            conn.execute(cmd)\n",
    "        else:\n",
    "            print(\"Doing nothing...\")\n",
    "            return\n",
    "    conn.commit()\n",
    "\n",
    "    \n",
    "def store_images(g_id):\n",
    "\ttotal_pics = 1200\n",
    "\thist = get_hand_hist()\n",
    "\tcam = cv2.VideoCapture(0)\n",
    "\tif cam.read()[0]==False:\n",
    "\t\tcam = cv2.VideoCapture(0)\n",
    "\tx, y, w, h = 300, 100, 300, 300\n",
    "\n",
    "\tcreate_folder(\"gestures/\"+str(g_id))\n",
    "\tpic_no = 0\n",
    "\tflag_start_capturing = False\n",
    "\tframes = 0\n",
    "\t\n",
    "\twhile True:\n",
    "\t\timg = cam.read()[1]\n",
    "\t\timg = cv2.flip(img, 1)\n",
    "\t\timgHSV = cv2.cvtColor(img, cv2.COLOR_BGR2HSV)\n",
    "\t\tdst = cv2.calcBackProject([imgHSV], [0, 1], hist, [0, 180, 0, 256], 1)\n",
    "\t\tdisc = cv2.getStructuringElement(cv2.MORPH_ELLIPSE,(10,10))\n",
    "\t\tcv2.filter2D(dst,-1,disc,dst)\n",
    "\t\tblur = cv2.GaussianBlur(dst, (11,11), 0)\n",
    "\t\tblur = cv2.medianBlur(blur, 15)\n",
    "\t\tthresh = cv2.threshold(blur,0,255,cv2.THRESH_BINARY+cv2.THRESH_OTSU)[1]\n",
    "\t\tthresh = cv2.merge((thresh,thresh,thresh))\n",
    "\t\tthresh = cv2.cvtColor(thresh, cv2.COLOR_BGR2GRAY)\n",
    "\t\tthresh = thresh[y:y+h, x:x+w]\n",
    "\t\tcontours = cv2.findContours(thresh.copy(), cv2.RETR_TREE, cv2.CHAIN_APPROX_NONE)[1]\n",
    "\n",
    "\t\tif len(contours) > 0:\n",
    "\t\t\tcontour = max(contours, key = cv2.contourArea)\n",
    "\t\t\tif cv2.contourArea(contour) > 10000 and frames > 50:\n",
    "\t\t\t\tx1, y1, w1, h1 = cv2.boundingRect(contour)\n",
    "\t\t\t\tpic_no += 1\n",
    "\t\t\t\tsave_img = thresh[y1:y1+h1, x1:x1+w1]\n",
    "\t\t\t\tif w1 > h1:\n",
    "\t\t\t\t\tsave_img = cv2.copyMakeBorder(save_img, int((w1-h1)/2) , int((w1-h1)/2) , 0, 0, cv2.BORDER_CONSTANT, (0, 0, 0))\n",
    "\t\t\t\telif h1 > w1:\n",
    "\t\t\t\t\tsave_img = cv2.copyMakeBorder(save_img, 0, 0, int((h1-w1)/2) , int((h1-w1)/2) , cv2.BORDER_CONSTANT, (0, 0, 0))\n",
    "\t\t\t\tsave_img = cv2.resize(save_img, (image_x, image_y))\n",
    "\t\t\t\trand = random.randint(0, 10)\n",
    "\t\t\t\tif rand % 2 == 0:\n",
    "\t\t\t\t\tsave_img = cv2.flip(save_img, 1)\n",
    "\t\t\t\tcv2.putText(img, \"Capturing...\", (30, 60), cv2.FONT_HERSHEY_TRIPLEX, 2, (127, 255, 255))\n",
    "\t\t\t\tcv2.imwrite(\"gestures/\"+str(g_id)+\"/\"+str(pic_no)+\".jpg\", save_img)\n",
    "\n",
    "\t\tcv2.rectangle(img, (x,y), (x+w, y+h), (0,255,0), 2)\n",
    "\t\tcv2.putText(img, str(pic_no), (30, 400), cv2.FONT_HERSHEY_TRIPLEX, 1.5, (127, 127, 255))\n",
    "\t\tcv2.imshow(\"Capturing gesture\", img)\n",
    "\t\tcv2.imshow(\"thresh\", thresh)\n",
    "\t\tkeypress = cv2.waitKey(1)\n",
    "\t\tif keypress == ord('c'):\n",
    "\t\t\tif flag_start_capturing == False:\n",
    "\t\t\t\tflag_start_capturing = True\n",
    "\t\t\telse:\n",
    "\t\t\t\tflag_start_capturing = False\n",
    "\t\t\t\tframes = 0\n",
    "\t\tif flag_start_capturing == True:\n",
    "\t\t\tframes += 1\n",
    "\t\tif pic_no == total_pics:\n",
    "\t\t\tbreak\n",
    "\n",
    "init_create_folder_database()\n",
    "g_id = input(\"Enter gesture no.: \")\n",
    "g_name = input(\"Enter gesture name/text: \")\n",
    "store_in_db(g_id, g_name)\n",
    "store_images(g_id)"
   ]
  },
  {
   "cell_type": "code",
   "execution_count": 6,
   "metadata": {},
   "outputs": [
    {
     "name": "stdout",
     "output_type": "stream",
     "text": [
      "4.5.1\n"
     ]
    }
   ],
   "source": [
    "print(cv2.__version__)\n"
   ]
  },
  {
   "cell_type": "code",
   "execution_count": null,
   "metadata": {},
   "outputs": [],
   "source": []
  }
 ],
 "metadata": {
  "kernelspec": {
   "display_name": "Python 3",
   "language": "python",
   "name": "python3"
  },
  "language_info": {
   "codemirror_mode": {
    "name": "ipython",
    "version": 3
   },
   "file_extension": ".py",
   "mimetype": "text/x-python",
   "name": "python",
   "nbconvert_exporter": "python",
   "pygments_lexer": "ipython3",
   "version": "3.7.9"
  }
 },
 "nbformat": 4,
 "nbformat_minor": 4
}
